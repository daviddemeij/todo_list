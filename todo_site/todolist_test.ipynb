{
 "cells": [
  {
   "cell_type": "code",
   "execution_count": 3,
   "metadata": {
    "collapsed": false,
    "scrolled": true
   },
   "outputs": [],
   "source": [
    "import todo"
   ]
  },
  {
   "cell_type": "code",
   "execution_count": 4,
   "metadata": {
    "collapsed": false
   },
   "outputs": [
    {
     "name": "stdout",
     "output_type": "stream",
     "text": [
      "\"Print important documents\" added to \"office/administration\"!\n",
      "\"Fitness training\" added to \"sports/health\"!\n",
      "\"Cinema\" added to \"fun/leisure\"!\n",
      "\"Read year report\" added to \"office/administration\"!\n",
      "\"update finances\" added to \"office/administration\"!\n",
      "\"invite mom and dad for dinner\" added to \"fun/leisure\"!\n",
      "\"crossfit\" added to \"sports/health\"!\n",
      "\"plan holiday\" added to \"office/administration\"!\n"
     ]
    }
   ],
   "source": [
    "todo_app = todo.todo_app()\n",
    "todo_app.add([\"Print important documents\", \"Fitness training\", \"Cinema\", \"Read year report\", \"update finances\", \"invite mom and dad for dinner\", \"crossfit\", \"plan holiday\"])"
   ]
  },
  {
   "cell_type": "code",
   "execution_count": 5,
   "metadata": {
    "collapsed": false
   },
   "outputs": [
    {
     "ename": "AttributeError",
     "evalue": "'todo_app' object has no attribute 'category_counter'",
     "output_type": "error",
     "traceback": [
      "\u001b[0;31m---------------------------------------------------------------------------\u001b[0m",
      "\u001b[0;31mAttributeError\u001b[0m                            Traceback (most recent call last)",
      "\u001b[0;32m<ipython-input-5-0599cd89b869>\u001b[0m in \u001b[0;36m<module>\u001b[0;34m()\u001b[0m\n\u001b[0;32m----> 1\u001b[0;31m \u001b[0mtodo_app\u001b[0m\u001b[0;34m.\u001b[0m\u001b[0mmove\u001b[0m\u001b[0;34m(\u001b[0m\u001b[0;36m6\u001b[0m\u001b[0;34m,\u001b[0m \u001b[0;34m\"fun/leisure\"\u001b[0m\u001b[0;34m)\u001b[0m\u001b[0;34m\u001b[0m\u001b[0m\n\u001b[0m",
      "\u001b[0;32m/home/david/code/todolist/todo_site/todo_django_app/todo.py\u001b[0m in \u001b[0;36mmove\u001b[0;34m(self, item_nr, move_to_category)\u001b[0m\n\u001b[1;32m    119\u001b[0m         \u001b[0;32mif\u001b[0m \u001b[0misinstance\u001b[0m\u001b[0;34m(\u001b[0m\u001b[0mitem_nr\u001b[0m\u001b[0;34m,\u001b[0m \u001b[0mint\u001b[0m\u001b[0;34m)\u001b[0m\u001b[0;34m:\u001b[0m\u001b[0;34m\u001b[0m\u001b[0m\n\u001b[1;32m    120\u001b[0m             \u001b[0;32mif\u001b[0m \u001b[0mmove_to_category\u001b[0m \u001b[0;32min\u001b[0m \u001b[0mself\u001b[0m\u001b[0;34m.\u001b[0m\u001b[0mcategories\u001b[0m\u001b[0;34m.\u001b[0m\u001b[0mkeys\u001b[0m\u001b[0;34m(\u001b[0m\u001b[0;34m)\u001b[0m\u001b[0;34m:\u001b[0m\u001b[0;34m\u001b[0m\u001b[0m\n\u001b[0;32m--> 121\u001b[0;31m                 \u001b[0mcategory\u001b[0m \u001b[0;34m=\u001b[0m \u001b[0mget_category\u001b[0m\u001b[0;34m(\u001b[0m\u001b[0mself\u001b[0m\u001b[0;34m.\u001b[0m\u001b[0mcategory_counter\u001b[0m\u001b[0;34m,\u001b[0m \u001b[0mitem_nr\u001b[0m\u001b[0;34m)\u001b[0m\u001b[0;34m\u001b[0m\u001b[0m\n\u001b[0m\u001b[1;32m    122\u001b[0m                 \u001b[0mself\u001b[0m\u001b[0;34m.\u001b[0m\u001b[0mtodo_lists\u001b[0m\u001b[0;34m[\u001b[0m\u001b[0mmove_to_category\u001b[0m\u001b[0;34m]\u001b[0m\u001b[0;34m.\u001b[0m\u001b[0madd\u001b[0m\u001b[0;34m(\u001b[0m\u001b[0mself\u001b[0m\u001b[0;34m.\u001b[0m\u001b[0mtodo_lists\u001b[0m\u001b[0;34m[\u001b[0m\u001b[0mcategory\u001b[0m\u001b[0;34m]\u001b[0m\u001b[0;34m.\u001b[0m\u001b[0mtodo\u001b[0m\u001b[0;34m[\u001b[0m\u001b[0mitem_nr\u001b[0m \u001b[0;34m-\u001b[0m \u001b[0mself\u001b[0m\u001b[0;34m.\u001b[0m\u001b[0mcategory_counter\u001b[0m\u001b[0;34m[\u001b[0m\u001b[0mcategory\u001b[0m\u001b[0;34m]\u001b[0m\u001b[0;34m]\u001b[0m\u001b[0;34m,\u001b[0m \u001b[0mmove_to_category\u001b[0m\u001b[0;34m)\u001b[0m\u001b[0;34m\u001b[0m\u001b[0m\n\u001b[1;32m    123\u001b[0m                 \u001b[0mself\u001b[0m\u001b[0;34m.\u001b[0m\u001b[0mtodo_lists\u001b[0m\u001b[0;34m[\u001b[0m\u001b[0mcategory\u001b[0m\u001b[0;34m]\u001b[0m\u001b[0;34m.\u001b[0m\u001b[0mremove\u001b[0m\u001b[0;34m(\u001b[0m\u001b[0mitem_nr\u001b[0m \u001b[0;34m-\u001b[0m \u001b[0mself\u001b[0m\u001b[0;34m.\u001b[0m\u001b[0mcategory_counter\u001b[0m\u001b[0;34m[\u001b[0m\u001b[0mcategory\u001b[0m\u001b[0;34m]\u001b[0m\u001b[0;34m)\u001b[0m\u001b[0;34m\u001b[0m\u001b[0m\n",
      "\u001b[0;31mAttributeError\u001b[0m: 'todo_app' object has no attribute 'category_counter'"
     ]
    }
   ],
   "source": [
    "todo_app.move(6, \"fun/leisure\")"
   ]
  },
  {
   "cell_type": "code",
   "execution_count": 6,
   "metadata": {
    "collapsed": false
   },
   "outputs": [
    {
     "data": {
      "text/plain": [
       "['Cinema', 'invite mom and dad for dinner']"
      ]
     },
     "execution_count": 6,
     "metadata": {},
     "output_type": "execute_result"
    }
   ],
   "source": [
    "todo_app.todo_lists['fun/leisure'].todo"
   ]
  },
  {
   "cell_type": "code",
   "execution_count": 18,
   "metadata": {
    "collapsed": false
   },
   "outputs": [
    {
     "name": "stdout",
     "output_type": "stream",
     "text": [
      "\"Print important documents\" removed from your todo list!\n",
      "\"Cinema\" removed from your todo list!\n",
      "sports/health\n",
      "\t1. Fitness training\n",
      "\t2. crossfit\n",
      "office/administration\n",
      "\t3. Read year report\n",
      "\t4. update finances\n",
      "fun/leisure\n",
      "\t5. invite mom and dad for dinner\n",
      "\t6. plan holiday\n",
      "\n"
     ]
    }
   ],
   "source": [
    "todo_app.remove([3, 6])\n",
    "print(todo_app)"
   ]
  },
  {
   "cell_type": "code",
   "execution_count": 29,
   "metadata": {
    "collapsed": false
   },
   "outputs": [
    {
     "name": "stdout",
     "output_type": "stream",
     "text": [
      "\"tennis\" added to \"sports/health\"!\n"
     ]
    }
   ],
   "source": [
    "todo_app.add(\"tennis\")\n"
   ]
  },
  {
   "cell_type": "code",
   "execution_count": 30,
   "metadata": {
    "collapsed": false
   },
   "outputs": [
    {
     "name": "stdout",
     "output_type": "stream",
     "text": [
      "sports/health\n",
      "\t1. Fitness training\n",
      "\t2. crossfit\n",
      "\t3. sdfsdfdsf\n",
      "\t4. sdfsdfdsf 2\n",
      "\t5. kitesurfing\n",
      "\t6. tennis\n",
      "office/administration\n",
      "\t7. Read year report\n",
      "\t8. update finances\n",
      "\t9. clean up desk\n",
      "fun/leisure\n",
      "\t10. invite mom and dad for dinner\n",
      "\t11. plan holiday\n",
      "\t12. do some shopping\n",
      "\t13. kite surfing\n",
      "\t14. surfing\n",
      "\t15. surf\n",
      "\t16. kite\n",
      "\n"
     ]
    }
   ],
   "source": [
    "print(todo_app)"
   ]
  },
  {
   "cell_type": "code",
   "execution_count": null,
   "metadata": {
    "collapsed": true
   },
   "outputs": [],
   "source": []
  }
 ],
 "metadata": {
  "kernelspec": {
   "display_name": "Python 3",
   "language": "python",
   "name": "python3"
  },
  "language_info": {
   "codemirror_mode": {
    "name": "ipython",
    "version": 3
   },
   "file_extension": ".py",
   "mimetype": "text/x-python",
   "name": "python",
   "nbconvert_exporter": "python",
   "pygments_lexer": "ipython3",
   "version": "3.5.2"
  }
 },
 "nbformat": 4,
 "nbformat_minor": 1
}
